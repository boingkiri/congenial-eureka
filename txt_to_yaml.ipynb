{
 "cells": [
  {
   "cell_type": "code",
   "execution_count": 1,
   "metadata": {},
   "outputs": [],
   "source": [
    "import yaml"
   ]
  },
  {
   "cell_type": "code",
   "execution_count": null,
   "metadata": {},
   "outputs": [],
   "source": [
    "with open(\"zero_iou_file_name_list.txt\", \"r\") as f:\n",
    "    zero_iou_file_name_list = f.readlines()\n",
    "    zero_iou_file_name_list = [x.strip() for x in zero_iou_file_name_list]\n",
    "\n",
    "zero_iou_file_name_dict = {}\n",
    "for file_name in zero_iou_file_name_list:\n",
    "    zero_iou_file_name_dict[file_name] = 1\n",
    "\n",
    "with open(\"zero_iou_file_name_dict.yaml\", \"w\") as f:\n",
    "    yaml.dump(zero_iou_file_name_dict, f)"
   ]
  }
 ],
 "metadata": {
  "kernelspec": {
   "display_name": "geodiffusion_yolo",
   "language": "python",
   "name": "python3"
  },
  "language_info": {
   "codemirror_mode": {
    "name": "ipython",
    "version": 3
   },
   "file_extension": ".py",
   "mimetype": "text/x-python",
   "name": "python",
   "nbconvert_exporter": "python",
   "pygments_lexer": "ipython3",
   "version": "3.10.14"
  }
 },
 "nbformat": 4,
 "nbformat_minor": 2
}
